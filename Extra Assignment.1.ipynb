{
 "cells": [
  {
   "cell_type": "code",
   "execution_count": 1,
   "id": "52f756a7-43bf-4952-b41b-d7644d11a9bc",
   "metadata": {},
   "outputs": [
    {
     "name": "stdout",
     "output_type": "stream",
     "text": [
      "HOPE AI\n"
     ]
    }
   ],
   "source": [
    "print(\"HOPE AI\")"
   ]
  },
  {
   "cell_type": "code",
   "execution_count": 4,
   "id": "d569c509-d30a-4c7b-aa83-96392e392870",
   "metadata": {},
   "outputs": [
    {
     "name": "stdin",
     "output_type": "stream",
     "text": [
      "Enter Your Insittute Name: Hope Ai\n"
     ]
    }
   ],
   "source": [
    "Name=input(\"Enter Your Insittute Name:\")\n",
    "\n",
    "\n",
    "           "
   ]
  },
  {
   "cell_type": "code",
   "execution_count": 5,
   "id": "0238f3c3-029f-475b-a398-e7e3219b57ff",
   "metadata": {},
   "outputs": [
    {
     "name": "stdin",
     "output_type": "stream",
     "text": [
      "Enter Your Name: Raj\n",
      "Enter Your Age: 15\n",
      "Enter Your School Name: Guru School\n",
      "Enter Your Degree: B.E CSE\n"
     ]
    }
   ],
   "source": [
    "Name=input(\"Enter Your Name:\")\n",
    "Age=input(\"Enter Your Age:\")\n",
    "School=input(\"Enter Your School Name:\")\n",
    "Graduate=input(\"Enter Your Degree:\")\n",
    "               "
   ]
  },
  {
   "cell_type": "code",
   "execution_count": 6,
   "id": "3ccf0b1e-9316-4b55-9447-b2c5cfb5258b",
   "metadata": {},
   "outputs": [
    {
     "name": "stdout",
     "output_type": "stream",
     "text": [
      "add\n",
      "77\n"
     ]
    }
   ],
   "source": [
    "num1=43\n",
    "num2=34\n",
    "add=num1+num2\n",
    "print(\"add\")\n",
    "print(add)"
   ]
  },
  {
   "cell_type": "code",
   "execution_count": 9,
   "id": "38bdcdc6-a371-4708-ad6e-803212d651d0",
   "metadata": {},
   "outputs": [
    {
     "name": "stdout",
     "output_type": "stream",
     "text": [
      "Sub\n",
      "9\n"
     ]
    }
   ],
   "source": [
    "num2=43\n",
    "num3=34\n",
    "sub=num2-num3\n",
    "print(\"Sub\")\n",
    "print(sub)\n"
   ]
  },
  {
   "cell_type": "code",
   "execution_count": 10,
   "id": "6e80b81e-5e59-413d-9784-3ccac539a2cc",
   "metadata": {},
   "outputs": [
    {
     "name": "stdout",
     "output_type": "stream",
     "text": [
      "Multiplication\n",
      "6111\n"
     ]
    }
   ],
   "source": [
    "num4=63\n",
    "num5=97\n",
    "mul=num4*num5\n",
    "print(\"Multiplication\")\n",
    "print(mul)"
   ]
  },
  {
   "cell_type": "code",
   "execution_count": 11,
   "id": "af58849b-3a43-4370-bc78-1e779bdfa2a8",
   "metadata": {},
   "outputs": [
    {
     "name": "stdout",
     "output_type": "stream",
     "text": [
      "Float.Division\n",
      "2.4516129032258065\n"
     ]
    }
   ],
   "source": [
    "num6=76\n",
    "num7=31\n",
    "div=num6/num7\n",
    "print(\"Float.Division\")\n",
    "print(div)"
   ]
  },
  {
   "cell_type": "code",
   "execution_count": 12,
   "id": "178d4f32-1b66-4059-8ee6-1048a48ef94c",
   "metadata": {},
   "outputs": [
    {
     "name": "stdout",
     "output_type": "stream",
     "text": [
      "Floor Division\n",
      "2\n"
     ]
    }
   ],
   "source": [
    "num8=76\n",
    "num9=31\n",
    "floor=num8//num9\n",
    "print(\"Floor Division\")\n",
    "print(floor)"
   ]
  },
  {
   "cell_type": "code",
   "execution_count": 15,
   "id": "4dc35f3c-535a-467a-826b-8c8c2e2e2b8f",
   "metadata": {},
   "outputs": [
    {
     "name": "stdout",
     "output_type": "stream",
     "text": [
      "Modulo\n",
      "14\n"
     ]
    }
   ],
   "source": [
    "num10=76\n",
    "num11=31\n",
    "modulo=num10%num11\n",
    "print(\"Modulo\")\n",
    "print(modulo)\n"
   ]
  },
  {
   "cell_type": "code",
   "execution_count": 18,
   "id": "51e931c0-5a43-4fa5-942c-7163bb9954d3",
   "metadata": {},
   "outputs": [
    {
     "name": "stdout",
     "output_type": "stream",
     "text": [
      "Power\n",
      "256\n"
     ]
    }
   ],
   "source": [
    "num12=4\n",
    "num13=4\n",
    "power=num12**num13\n",
    "print(\"Power\")\n",
    "print(power)"
   ]
  },
  {
   "cell_type": "code",
   "execution_count": null,
   "id": "6af07fb3-9e8f-4e85-8a85-11accc6c31f9",
   "metadata": {},
   "outputs": [],
   "source": []
  }
 ],
 "metadata": {
  "kernelspec": {
   "display_name": "Python 3 (ipykernel)",
   "language": "python",
   "name": "python3"
  },
  "language_info": {
   "codemirror_mode": {
    "name": "ipython",
    "version": 3
   },
   "file_extension": ".py",
   "mimetype": "text/x-python",
   "name": "python",
   "nbconvert_exporter": "python",
   "pygments_lexer": "ipython3",
   "version": "3.12.4"
  }
 },
 "nbformat": 4,
 "nbformat_minor": 5
}
