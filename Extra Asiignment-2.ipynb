{
 "cells": [
  {
   "cell_type": "code",
   "execution_count": null,
   "id": "833ade4b-8a5e-45c6-8e5a-5a7731a2c3f2",
   "metadata": {},
   "outputs": [],
   "source": []
  },
  {
   "cell_type": "code",
   "execution_count": 6,
   "id": "855efeea-c0f8-46fa-8d1c-887cfa1a1c12",
   "metadata": {},
   "outputs": [
    {
     "data": {
      "text/plain": [
       "range(0, 20)"
      ]
     },
     "execution_count": 6,
     "metadata": {},
     "output_type": "execute_result"
    }
   ],
   "source": [
    "range(0,20)"
   ]
  },
  {
   "cell_type": "code",
   "execution_count": 2,
   "id": "4f74d5f6-5cab-4a92-9d53-ddf3e4b79cfa",
   "metadata": {},
   "outputs": [
    {
     "name": "stdout",
     "output_type": "stream",
     "text": [
      "range(0, 20)\n"
     ]
    }
   ],
   "source": [
    "print(range(0,20))"
   ]
  },
  {
   "cell_type": "code",
   "execution_count": 5,
   "id": "0c277223-6760-4d62-b0c4-af347ea1a9cc",
   "metadata": {},
   "outputs": [
    {
     "name": "stdout",
     "output_type": "stream",
     "text": [
      "0\n",
      "1\n",
      "2\n",
      "3\n",
      "4\n",
      "5\n",
      "6\n",
      "7\n",
      "8\n",
      "9\n",
      "10\n",
      "11\n",
      "12\n",
      "13\n",
      "14\n",
      "15\n",
      "16\n",
      "17\n",
      "18\n",
      "19\n"
     ]
    }
   ],
   "source": [
    "for num in range(0,20):\n",
    "    print(num)\n",
    "         \n"
   ]
  },
  {
   "cell_type": "code",
   "execution_count": 8,
   "id": "afb54faf-c6d2-499d-b801-032e8bed5898",
   "metadata": {},
   "outputs": [
    {
     "name": "stdout",
     "output_type": "stream",
     "text": [
      "10\n",
      "11\n",
      "12\n",
      "13\n",
      "14\n",
      "15\n",
      "16\n",
      "17\n",
      "18\n",
      "19\n"
     ]
    }
   ],
   "source": [
    "for num1 in range(10,20):\n",
    "    print(num1)"
   ]
  },
  {
   "cell_type": "code",
   "execution_count": 12,
   "id": "4fbae583-2248-4433-aa46-5a08beb47b67",
   "metadata": {},
   "outputs": [
    {
     "name": "stdout",
     "output_type": "stream",
     "text": [
      "Number of item in the List2:\n",
      "7\n"
     ]
    }
   ],
   "source": [
    "list=[10, 20, 14, 55, 43, 87, 76]\n",
    "num2=len(list)\n",
    "print(\"Number of item in the List2:\")\n",
    "print(num2)\n",
    "\n",
    "\n"
   ]
  },
  {
   "cell_type": "code",
   "execution_count": 17,
   "id": "f9d7144e-2dd8-40c6-b8d8-30bf74406e6a",
   "metadata": {},
   "outputs": [
    {
     "name": "stdout",
     "output_type": "stream",
     "text": [
      "Artificial Intelligence\n"
     ]
    }
   ],
   "source": [
    "list=[\"Artificial Intelligence\"]\n",
    "for num3 in list:\n",
    "    print(num3)"
   ]
  },
  {
   "cell_type": "code",
   "execution_count": null,
   "id": "9db3952e-5245-4160-8692-b596b3389d84",
   "metadata": {},
   "outputs": [],
   "source": []
  },
  {
   "cell_type": "code",
   "execution_count": 26,
   "id": "52b24490-1954-4ce0-a085-4cd36a4a21d9",
   "metadata": {},
   "outputs": [
    {
     "name": "stdout",
     "output_type": "stream",
     "text": [
      "A\n",
      "r\n",
      "t\n",
      "i\n",
      "f\n",
      "i\n",
      "c\n",
      "i\n",
      "a\n",
      "l\n",
      " \n",
      "I\n",
      "n\n",
      "t\n",
      "e\n",
      "l\n",
      "l\n",
      "i\n",
      "g\n",
      "e\n",
      "n\n",
      "c\n",
      "e\n"
     ]
    }
   ],
   "source": [
    "word=(\"Artificial Intelligence\")\n",
    "len(word)\n",
    "for num3 in range(len(word)):\n",
    "    print(word[num3])"
   ]
  },
  {
   "cell_type": "code",
   "execution_count": 1,
   "id": "4b6ba56f-e15d-45af-9bd2-3107db387d90",
   "metadata": {},
   "outputs": [
    {
     "name": "stdin",
     "output_type": "stream",
     "text": [
      "Enter Your Name: Manoj\n",
      "Enter Your Age: 29\n",
      "Enter Your PEofession: Bi Developer\n"
     ]
    }
   ],
   "source": [
    "Name=input(\"Enter Your Name:\")\n",
    "Age=input(\"Enter Your Age:\")\n",
    "Profession=input(\"Enter Your PEofession:\")"
   ]
  },
  {
   "cell_type": "code",
   "execution_count": 4,
   "id": "7e82e9c8-bd67-4e56-95dc-3cf57b6d264c",
   "metadata": {},
   "outputs": [
    {
     "name": "stdout",
     "output_type": "stream",
     "text": [
      "\n",
      "Tuple with Mixed Datatypes:\n",
      "(1, 'Welcome', 2, 'Hope')\n"
     ]
    }
   ],
   "source": [
    "tuple=(1, 'Welcome', 2, 'Hope')\n",
    "print(\"\\nTuple with Mixed Datatypes:\")\n",
    "print(tuple)"
   ]
  },
  {
   "cell_type": "code",
   "execution_count": 5,
   "id": "91eed159-03b3-4e6b-bb82-9d48e67e36a5",
   "metadata": {},
   "outputs": [
    {
     "name": "stdout",
     "output_type": "stream",
     "text": [
      "\n",
      "Tuple with nested tuples: \n",
      "((0, 1, 2, 3), ('python', 'HOPE'))\n"
     ]
    }
   ],
   "source": [
    "tuple1=((0, 1, 2, 3), ('python', 'HOPE'))\n",
    "print(\"\\nTuple with nested tuples: \")\n",
    "print(tuple1)"
   ]
  },
  {
   "cell_type": "code",
   "execution_count": 9,
   "id": "25718555-7882-4301-af19-45342fd6c9a2",
   "metadata": {},
   "outputs": [
    {
     "name": "stdout",
     "output_type": "stream",
     "text": [
      "Odd Number\n",
      "19\n",
      "Odd Number\n",
      "25\n",
      "Odd Number\n",
      "1\n"
     ]
    }
   ],
   "source": [
    "list=[20,10,16,19,25,1,276,188]\n",
    "for Num in list:\n",
    "    if((Num%2)==1):\n",
    "        print(\"Odd Number\")\n",
    "        print(Num)\n",
    "\n"
   ]
  },
  {
   "cell_type": "code",
   "execution_count": 14,
   "id": "69243bf2-0e7a-4c2f-8768-320010d46994",
   "metadata": {},
   "outputs": [
    {
     "name": "stdout",
     "output_type": "stream",
     "text": [
      "Even Number\n",
      "20\n",
      "Even Number\n",
      "10\n",
      "Even Number\n",
      "16\n",
      "Even Number\n",
      "276\n",
      "Even Number\n",
      "188\n"
     ]
    }
   ],
   "source": [
    "list=[20,10,16,19,25,1,276,188]\n",
    "for Num in list:\n",
    "    if((Num%2)==0):\n",
    "        print(\"Even Number\")\n",
    "        print(Num)"
   ]
  },
  {
   "cell_type": "code",
   "execution_count": null,
   "id": "fc170363-4042-49f9-942d-f00da6017c65",
   "metadata": {},
   "outputs": [],
   "source": []
  }
 ],
 "metadata": {
  "kernelspec": {
   "display_name": "Python 3 (ipykernel)",
   "language": "python",
   "name": "python3"
  },
  "language_info": {
   "codemirror_mode": {
    "name": "ipython",
    "version": 3
   },
   "file_extension": ".py",
   "mimetype": "text/x-python",
   "name": "python",
   "nbconvert_exporter": "python",
   "pygments_lexer": "ipython3",
   "version": "3.12.4"
  }
 },
 "nbformat": 4,
 "nbformat_minor": 5
}
