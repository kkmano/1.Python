{
 "cells": [
  {
   "cell_type": "raw",
   "id": "c5138de7-9d5d-4446-9f50-0cc13cd05d53",
   "metadata": {},
   "source": [
    "Varible = Assignment operator\n",
    "L.H.S   = R.H.S\n",
    "Variable its holds the Value.Value stroed in memory.also called memory\n",
    "variable \n",
    "1.no space in between two words and use -,\n",
    "2.no number start let with variable, we can use second letter.\n",
    "3.its put meaning ful name\n",
    "Error\n",
    "1.name Error a.spelling mistakes b. variable to assign\n",
    "2.EOF end of file a. put semicolon\n"
   ]
  },
  {
   "cell_type": "code",
   "execution_count": 9,
   "id": "2823f0ae-c63b-43b2-9177-f1ffb49bceb8",
   "metadata": {},
   "outputs": [],
   "source": [
    "Number1=40\n",
    "Numbr2=70\n",
    "add=Number1+Numbr2"
   ]
  },
  {
   "cell_type": "code",
   "execution_count": 10,
   "id": "1ad5ad5f-562f-4b27-a9f3-cbff8270c4b3",
   "metadata": {},
   "outputs": [],
   "source": [
    "Number1=40\n",
    "Number2=70\n",
    "add=Number1+Number2"
   ]
  },
  {
   "cell_type": "code",
   "execution_count": 33,
   "id": "8e39c199-1c95-46e7-9e48-eda6585ca8e2",
   "metadata": {},
   "outputs": [
    {
     "name": "stdout",
     "output_type": "stream",
     "text": [
      "Add\n",
      "110\n"
     ]
    }
   ],
   "source": [
    "Number1=40\n",
    "Number2=70\n",
    "add=Number1+Number2\n",
    "print(\"Add\")\n",
    "print(add)"
   ]
  },
  {
   "cell_type": "code",
   "execution_count": null,
   "id": "579f6388-aa23-4b35-b5f8-900bc7684ee3",
   "metadata": {},
   "outputs": [],
   "source": []
  },
  {
   "cell_type": "code",
   "execution_count": 15,
   "id": "e4412521-9d04-4124-9cdc-f8f399038295",
   "metadata": {},
   "outputs": [],
   "source": [
    "First_Name=\"Manoj\"\n",
    "Second_Name=\"Krishnakumar\""
   ]
  },
  {
   "cell_type": "code",
   "execution_count": 16,
   "id": "17710676-0066-4920-a2a0-097aeefe844a",
   "metadata": {},
   "outputs": [],
   "source": [
    "FirstName=\"Manoj\"\n",
    "SecondName=\"Krishnakumar\""
   ]
  },
  {
   "cell_type": "code",
   "execution_count": 18,
   "id": "4f7e6318-cba9-4d3a-b9f0-e43c5bd6b5eb",
   "metadata": {},
   "outputs": [],
   "source": [
    "name4=14"
   ]
  },
  {
   "cell_type": "code",
   "execution_count": 34,
   "id": "1d1ccd2c-d5a9-4c9e-848f-7296e89f0d70",
   "metadata": {},
   "outputs": [
    {
     "name": "stdout",
     "output_type": "stream",
     "text": [
      "The Addiction Of Two Members\n",
      "The Number1: 10\n",
      "The Number2: 30\n",
      "The Answer: 40\n"
     ]
    }
   ],
   "source": [
    "print(\"The Addiction Of Two Members\")\n",
    "num1=10\n",
    "print(\"The Number1:\",num1)\n",
    "num2=30\n",
    "print(\"The Number2:\",num2)\n",
    "print(\"The Answer:\",num1+num2)"
   ]
  },
  {
   "cell_type": "code",
   "execution_count": 40,
   "id": "8e3c5af5-10dd-444d-b88f-47f9a3af1134",
   "metadata": {},
   "outputs": [
    {
     "name": "stdin",
     "output_type": "stream",
     "text": [
      "Enter the Value: 45\n"
     ]
    }
   ],
   "source": [
    "num1=int(input(\"Enter the Value:\"))"
   ]
  },
  {
   "cell_type": "code",
   "execution_count": 45,
   "id": "cfb933b2-cda4-49d3-859b-228b03d69be2",
   "metadata": {},
   "outputs": [
    {
     "name": "stdin",
     "output_type": "stream",
     "text": [
      "Enter The Value: 45\n"
     ]
    }
   ],
   "source": [
    "num2=int(input(\"Enter The Value:\"))\n"
   ]
  },
  {
   "cell_type": "code",
   "execution_count": 46,
   "id": "04763f5f-e462-48d8-9cd1-94184d5bf7f5",
   "metadata": {},
   "outputs": [],
   "source": [
    "Add=num1+num2"
   ]
  },
  {
   "cell_type": "code",
   "execution_count": 47,
   "id": "dabacff9-0fde-4869-8362-b28a3258f337",
   "metadata": {},
   "outputs": [
    {
     "name": "stdout",
     "output_type": "stream",
     "text": [
      "90\n"
     ]
    }
   ],
   "source": [
    "print(Add)"
   ]
  },
  {
   "cell_type": "code",
   "execution_count": 49,
   "id": "ad564736-d1bd-427c-b032-78bf11877649",
   "metadata": {},
   "outputs": [
    {
     "name": "stdin",
     "output_type": "stream",
     "text": [
      "Enter the Value: 76\n"
     ]
    }
   ],
   "source": [
    "num1=int(input(\"Enter the Value:\"))           "
   ]
  },
  {
   "cell_type": "code",
   "execution_count": 50,
   "id": "8a76f97c-c7cd-49fc-9fd2-51b7f379d77a",
   "metadata": {},
   "outputs": [],
   "source": [
    "nam=\"manoj\""
   ]
  },
  {
   "cell_type": "code",
   "execution_count": 51,
   "id": "07b8869a-0cdb-4631-a3e5-bdb025758ee2",
   "metadata": {},
   "outputs": [
    {
     "name": "stdout",
     "output_type": "stream",
     "text": [
      "manoj\n"
     ]
    }
   ],
   "source": [
    "print(nam)"
   ]
  },
  {
   "cell_type": "code",
   "execution_count": 52,
   "id": "1c4cb4b0-5380-4c42-a0c0-d77e142bfa72",
   "metadata": {},
   "outputs": [],
   "source": [
    "num='manoj'"
   ]
  },
  {
   "cell_type": "code",
   "execution_count": 53,
   "id": "dedab8c9-5721-4011-a64a-b324f5c9762f",
   "metadata": {},
   "outputs": [
    {
     "name": "stdout",
     "output_type": "stream",
     "text": [
      "manoj\n"
     ]
    }
   ],
   "source": [
    "print(num)"
   ]
  },
  {
   "cell_type": "code",
   "execution_count": null,
   "id": "45cebeb6-bbec-4348-a429-cbd5e9dfd52b",
   "metadata": {},
   "outputs": [],
   "source": []
  }
 ],
 "metadata": {
  "kernelspec": {
   "display_name": "Python 3 (ipykernel)",
   "language": "python",
   "name": "python3"
  },
  "language_info": {
   "codemirror_mode": {
    "name": "ipython",
    "version": 3
   },
   "file_extension": ".py",
   "mimetype": "text/x-python",
   "name": "python",
   "nbconvert_exporter": "python",
   "pygments_lexer": "ipython3",
   "version": "3.12.4"
  }
 },
 "nbformat": 4,
 "nbformat_minor": 5
}
