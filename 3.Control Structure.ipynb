{
 "cells": [
  {
   "cell_type": "raw",
   "id": "04cf842f-7d05-45d5-8d39-200d1d53b891",
   "metadata": {},
   "source": [
    "if condition\n",
    "syntax \n",
    "       if():\n",
    "         print(\"\")"
   ]
  },
  {
   "cell_type": "code",
   "execution_count": 1,
   "id": "daf4645f-c314-4266-a1c2-5b0451c1d83a",
   "metadata": {},
   "outputs": [],
   "source": [
    "if():\n",
    "    print()"
   ]
  },
  {
   "cell_type": "code",
   "execution_count": 7,
   "id": "5a76ac5f-b293-41ca-9987-3e61a4800d31",
   "metadata": {},
   "outputs": [
    {
     "name": "stdin",
     "output_type": "stream",
     "text": [
      "Enter Your Age 18\n"
     ]
    }
   ],
   "source": [
    "Age=int(input('Enter Your Age'))\n"
   ]
  },
  {
   "cell_type": "code",
   "execution_count": 8,
   "id": "3116998e-c1fc-4c4e-81e0-fe69b7eea78f",
   "metadata": {},
   "outputs": [
    {
     "name": "stdout",
     "output_type": "stream",
     "text": [
      "Adult\n"
     ]
    }
   ],
   "source": [
    "if(Age==18):\n",
    "    print('Adult')"
   ]
  },
  {
   "cell_type": "code",
   "execution_count": 17,
   "id": "3431340d-c0f6-4607-ad21-310a3523b36a",
   "metadata": {},
   "outputs": [
    {
     "name": "stdin",
     "output_type": "stream",
     "text": [
      "Enter Your Gender: female\n"
     ]
    }
   ],
   "source": [
    "Gender=input('Enter Your Gender:')"
   ]
  },
  {
   "cell_type": "code",
   "execution_count": 12,
   "id": "b7990d69-50a7-408b-bc1a-61b475c2c70b",
   "metadata": {},
   "outputs": [
    {
     "name": "stdin",
     "output_type": "stream",
     "text": [
      "Enter Your Gender: male\n"
     ]
    },
    {
     "name": "stdout",
     "output_type": "stream",
     "text": [
      "Man\n"
     ]
    }
   ],
   "source": [
    "Gender=input('Enter Your Gender:')\n",
    "if(Gender==\"male\"):\n",
    "    print('Man')"
   ]
  },
  {
   "cell_type": "code",
   "execution_count": 13,
   "id": "da3e94cf-2d91-4d28-9ef1-15ab923b5dbb",
   "metadata": {},
   "outputs": [
    {
     "name": "stdin",
     "output_type": "stream",
     "text": [
      "Enter Your Gender: girl\n"
     ]
    },
    {
     "name": "stdout",
     "output_type": "stream",
     "text": [
      "Man\n"
     ]
    }
   ],
   "source": [
    "Gender=input('Enter Your Gender:')\n",
    "if(Gender==\"male\",\"boy\"):\n",
    "    print('Man')\n",
    "else:\n",
    "    print('Men')"
   ]
  },
  {
   "cell_type": "code",
   "execution_count": 7,
   "id": "e7c592d6-5db6-4a6d-b8ae-b7e175e533dc",
   "metadata": {},
   "outputs": [
    {
     "name": "stdin",
     "output_type": "stream",
     "text": [
      "Enter Your Age: 56\n"
     ]
    },
    {
     "name": "stdout",
     "output_type": "stream",
     "text": [
      "Adult\n"
     ]
    }
   ],
   "source": [
    "Age=int(input('Enter Your Age:'))\n",
    "if(Age<18):\n",
    "    print('Children')\n",
    "else:\n",
    "    print('Adult')"
   ]
  },
  {
   "cell_type": "code",
   "execution_count": 11,
   "id": "f2ae80dd-b1b4-443b-babe-9d44c4f501e9",
   "metadata": {},
   "outputs": [
    {
     "name": "stdin",
     "output_type": "stream",
     "text": [
      "Enter Your Age: 29\n"
     ]
    },
    {
     "name": "stdout",
     "output_type": "stream",
     "text": [
      "Adult\n"
     ]
    }
   ],
   "source": [
    "Age=int(input(\"Enter Your Age:\"))\n",
    "if(Age<18):\n",
    "    print(\"Children\")\n",
    "elif(Age<35):\n",
    "    print(\"Adult\")\n",
    "elif(Age<59):\n",
    "    print(\"Citizen\")\n",
    "else:\n",
    "    print(\"Senior Citizen\")"
   ]
  },
  {
   "cell_type": "markdown",
   "id": "0e9a5749-afc1-4dab-8797-d82fad596437",
   "metadata": {},
   "source": [
    "for loop\n",
    "syntax\n",
    "for temp in mainvari:\n",
    "          print(temp)"
   ]
  },
  {
   "cell_type": "code",
   "execution_count": 15,
   "id": "f676d4f9-fe6f-4a67-90f4-c71d301c05f7",
   "metadata": {},
   "outputs": [
    {
     "name": "stdout",
     "output_type": "stream",
     "text": [
      "23\n",
      "45\n",
      "89\n",
      "13\n",
      "47\n"
     ]
    }
   ],
   "source": [
    "list=[23,45,89,13,47]\n",
    "for temp in list:\n",
    "    print(temp)"
   ]
  },
  {
   "cell_type": "code",
   "execution_count": 11,
   "id": "2bccf8d4-a9fd-4992-9feb-fb00098b6484",
   "metadata": {},
   "outputs": [
    {
     "ename": "TypeError",
     "evalue": "'type' object is not iterable",
     "output_type": "error",
     "traceback": [
      "\u001b[1;31m---------------------------------------------------------------------------\u001b[0m",
      "\u001b[1;31mTypeError\u001b[0m                                 Traceback (most recent call last)",
      "Cell \u001b[1;32mIn[11], line 1\u001b[0m\n\u001b[1;32m----> 1\u001b[0m \u001b[38;5;28;01mfor\u001b[39;00m Age \u001b[38;5;129;01min\u001b[39;00m \u001b[38;5;28mlist\u001b[39m:\n\u001b[0;32m      2\u001b[0m     \u001b[38;5;28;01mif\u001b[39;00m(Age\u001b[38;5;241m<\u001b[39m\u001b[38;5;241m18\u001b[39m):\n\u001b[0;32m      3\u001b[0m         \u001b[38;5;28mprint\u001b[39m(\u001b[38;5;124m\"\u001b[39m\u001b[38;5;124mChildren\u001b[39m\u001b[38;5;124m\"\u001b[39m)\n",
      "\u001b[1;31mTypeError\u001b[0m: 'type' object is not iterable"
     ]
    }
   ],
   "source": [
    "for Age in list:\n",
    "    if(Age<18):\n",
    "        print(\"Children\")\n",
    "    elif(Age<35):\n",
    "        print(\"Adult\")\n",
    "    elif(Age<59):\n",
    "        print(\"Citizen\")\n",
    "    else:\n",
    "        print(\"Senor Citizen\")\n",
    "\n",
    "\n",
    "    \n",
    "  "
   ]
  },
  {
   "cell_type": "code",
   "execution_count": 14,
   "id": "1971956e-1ff9-4a31-8cab-0efb3f48a289",
   "metadata": {},
   "outputs": [
    {
     "name": "stdin",
     "output_type": "stream",
     "text": [
      "Enter The NUmber 5\n"
     ]
    },
    {
     "name": "stdout",
     "output_type": "stream",
     "text": [
      "Odd Number\n"
     ]
    }
   ],
   "source": [
    "num=int(input(\"Enter The NUmber\"))\n",
    "if((num%2)==1):\n",
    "    print(\"Odd Number\")\n",
    "else:\n",
    "    print(\"Even Number\")"
   ]
  },
  {
   "cell_type": "code",
   "execution_count": null,
   "id": "6d1a6bac-8a39-417c-a489-5cbd75956335",
   "metadata": {},
   "outputs": [],
   "source": []
  }
 ],
 "metadata": {
  "kernelspec": {
   "display_name": "Python 3 (ipykernel)",
   "language": "python",
   "name": "python3"
  },
  "language_info": {
   "codemirror_mode": {
    "name": "ipython",
    "version": 3
   },
   "file_extension": ".py",
   "mimetype": "text/x-python",
   "name": "python",
   "nbconvert_exporter": "python",
   "pygments_lexer": "ipython3",
   "version": "3.12.4"
  }
 },
 "nbformat": 4,
 "nbformat_minor": 5
}
