{
 "cells": [
  {
   "cell_type": "code",
   "execution_count": 7,
   "id": "71223974-6494-419d-b2ec-f35dc822015a",
   "metadata": {},
   "outputs": [],
   "source": [
    "class SubfieldsInAI():\n",
    "    def Subfields():\n",
    "        list=[\"Machine Leaning\",\"Neural Networks\",\"vision\",\"Robotics\",\"Speech Processing\",\"Natural Language Processing\"]\n",
    "        for subfield in list:\n",
    "            print(subfield)\n",
    "            cate=(\"subfield\")\n",
    "    def subfields():\n",
    "        for subfield in list:\n",
    "            print(subfield)\n",
    "            cate=(\"subfield\")\n",
    "        return cate\n",
    "    "
   ]
  },
  {
   "cell_type": "code",
   "execution_count": 8,
   "id": "32026470-d405-4550-b332-bf89d54376eb",
   "metadata": {},
   "outputs": [
    {
     "name": "stdout",
     "output_type": "stream",
     "text": [
      "Machine Leaning\n",
      "Neural Networks\n",
      "vision\n",
      "Robotics\n",
      "Speech Processing\n",
      "Natural Language Processing\n"
     ]
    }
   ],
   "source": [
    "SubfieldsInAI.Subfields()"
   ]
  },
  {
   "cell_type": "code",
   "execution_count": 17,
   "id": "485a7cd5-d7bb-4298-8db0-22eb7ec110f1",
   "metadata": {},
   "outputs": [],
   "source": [
    "class OddEven():\n",
    "    def oddeven():\n",
    "        num=int(input(\"Enter The Number\"))\n",
    "        if((num%2)==1):\n",
    "            print(\"Odd Number\")\n",
    "            cate=\"Odd Number\"\n",
    "        else:\n",
    "            print(\"Even Number\")\n",
    "            cate=\"Even Number\"\n",
    "        return cate"
   ]
  },
  {
   "cell_type": "code",
   "execution_count": 22,
   "id": "92125549-6d83-42ba-afe2-6cc0a1788078",
   "metadata": {},
   "outputs": [
    {
     "name": "stdin",
     "output_type": "stream",
     "text": [
      "Enter The Number 1\n"
     ]
    },
    {
     "name": "stdout",
     "output_type": "stream",
     "text": [
      "Odd Number\n"
     ]
    },
    {
     "data": {
      "text/plain": [
       "'Odd Number'"
      ]
     },
     "execution_count": 22,
     "metadata": {},
     "output_type": "execute_result"
    }
   ],
   "source": [
    "OddEven.oddeven()"
   ]
  },
  {
   "cell_type": "code",
   "execution_count": 23,
   "id": "e4817868-b18f-4181-82bc-9fd865a42a87",
   "metadata": {},
   "outputs": [],
   "source": [
    "class ElegiblityForMarriage():\n",
    "    def Elegible():\n",
    "        Gender=input(\"Enter Your Gender\")\n",
    "        Age=int(input(\"Enter Your Age\"))\n",
    "        if(Age>18):\n",
    "            print(\"Elegible\")\n",
    "            cate=(\"Elegible\")\n",
    "        elif(Gender==\"Male\"):\n",
    "            print(\"Elegible\")\n",
    "            cate=(\"Elegible\")\n",
    "        else:\n",
    "            print(\"Not Elegible\")\n",
    "            cate=(\"Not Elegible\")\n",
    "        return cate"
   ]
  },
  {
   "cell_type": "code",
   "execution_count": 24,
   "id": "4f428256-4db7-4638-834c-889f8058fa9f",
   "metadata": {},
   "outputs": [
    {
     "name": "stdin",
     "output_type": "stream",
     "text": [
      "Enter Your Gender female\n",
      "Enter Your Age 14\n"
     ]
    },
    {
     "name": "stdout",
     "output_type": "stream",
     "text": [
      "Not Elegible\n"
     ]
    },
    {
     "data": {
      "text/plain": [
       "'Not Elegible'"
      ]
     },
     "execution_count": 24,
     "metadata": {},
     "output_type": "execute_result"
    }
   ],
   "source": [
    "ElegiblityForMarriage.Elegible()"
   ]
  },
  {
   "cell_type": "code",
   "execution_count": 25,
   "id": "94b6dedf-0f74-4682-b999-567365e2d4cb",
   "metadata": {},
   "outputs": [],
   "source": [
    "class Triangle():\n",
    "    def triangle():\n",
    "        height=int(input(\"Enter Value\"))\n",
    "        breadth=int(input(\"Enter Value\"))\n",
    "        AreaOfTriangle=((height*breadth)/2)\n",
    "        \n",
    "        print(\"Area Of Triangle\")\n",
    "        print(AreaOfTriangle)\n",
    "        cate=(\"Area Of Triangle\")\n",
    "        \n",
    "        height1=int(input(\"Enter Value\"))\n",
    "        height2=int(input(\"Enter Value\"))\n",
    "        breadth=int(input(\"Enter Value\"))\n",
    "        perimeter=height1+height2+breadth\n",
    "        \n",
    "        print(\"Perimeter of Traingle\")\n",
    "        print(perimeter)\n",
    "        cate=(\"Perimeter of Traingle\")\n",
    "        return cate\n",
    "    "
   ]
  },
  {
   "cell_type": "code",
   "execution_count": 26,
   "id": "154b5a20-3c6d-4e63-9731-9ebffdaaf568",
   "metadata": {},
   "outputs": [
    {
     "name": "stdin",
     "output_type": "stream",
     "text": [
      "Enter Value 3\n",
      "Enter Value 4\n"
     ]
    },
    {
     "name": "stdout",
     "output_type": "stream",
     "text": [
      "Area Of Triangle\n",
      "6.0\n"
     ]
    },
    {
     "name": "stdin",
     "output_type": "stream",
     "text": [
      "Enter Value 3\n",
      "Enter Value 4\n",
      "Enter Value 45\n"
     ]
    },
    {
     "name": "stdout",
     "output_type": "stream",
     "text": [
      "Perimeter of Traingle\n",
      "52\n"
     ]
    },
    {
     "data": {
      "text/plain": [
       "'Perimeter of Traingle'"
      ]
     },
     "execution_count": 26,
     "metadata": {},
     "output_type": "execute_result"
    }
   ],
   "source": [
    "Triangle.triangle()"
   ]
  },
  {
   "cell_type": "raw",
   "id": "2291ce0b-5f59-4eca-889f-fa19c9a3ccb0",
   "metadata": {},
   "source": [
    "Subject1= 98\n",
    "Subject2= 87\n",
    "Subject3= 95\n",
    "Subject4= 95\n",
    "Subject5= 93\n",
    "Total : 468\n",
    "Percentage : 93.60000000000001"
   ]
  },
  {
   "cell_type": "code",
   "execution_count": 27,
   "id": "b5fbeecb-123d-453e-951d-d75c676878bd",
   "metadata": {},
   "outputs": [],
   "source": [
    "class FindPercent():\n",
    "    def percentage():\n",
    "        sub1=int(input(\"Enter Your sub1 Mark\"))\n",
    "        sub2=int(input(\"Enter Your sub2 Mark\"))\n",
    "        sub3=int(input(\"Enter Your sub3 Mark\"))\n",
    "        sub4=int(input(\"Enter Your sub4 Mark\"))\n",
    "        sub5=int(input(\"Enter Your sub5 Mark\"))\n",
    "        Total=sub1+sub2+sub3+sub4+sub5\n",
    "        print(Total)\n",
    "        \n",
    "        percentage=(Total/500*100)\n",
    "        print(\"percentage\")\n",
    "        print(percentage)\n",
    "        cate=(\"Percentage\")\n",
    "        \n",
    "        return cate"
   ]
  },
  {
   "cell_type": "code",
   "execution_count": 30,
   "id": "fe0f331d-b5db-4385-84ea-cc750be4a3e1",
   "metadata": {},
   "outputs": [
    {
     "name": "stdin",
     "output_type": "stream",
     "text": [
      "Enter Your sub1 Mark 98\n",
      "Enter Your sub2 Mark 87\n",
      "Enter Your sub3 Mark 95\n",
      "Enter Your sub4 Mark 95\n",
      "Enter Your sub5 Mark 93\n"
     ]
    },
    {
     "name": "stdout",
     "output_type": "stream",
     "text": [
      "468\n",
      "percentage\n",
      "93.60000000000001\n"
     ]
    },
    {
     "data": {
      "text/plain": [
       "'Percentage'"
      ]
     },
     "execution_count": 30,
     "metadata": {},
     "output_type": "execute_result"
    }
   ],
   "source": [
    "FindPercent.percentage()"
   ]
  },
  {
   "cell_type": "code",
   "execution_count": null,
   "id": "76139fc0-daf6-4375-8b8f-08e3e8ec4fd7",
   "metadata": {},
   "outputs": [],
   "source": []
  }
 ],
 "metadata": {
  "kernelspec": {
   "display_name": "Python 3 (ipykernel)",
   "language": "python",
   "name": "python3"
  },
  "language_info": {
   "codemirror_mode": {
    "name": "ipython",
    "version": 3
   },
   "file_extension": ".py",
   "mimetype": "text/x-python",
   "name": "python",
   "nbconvert_exporter": "python",
   "pygments_lexer": "ipython3",
   "version": "3.12.4"
  }
 },
 "nbformat": 4,
 "nbformat_minor": 5
}
