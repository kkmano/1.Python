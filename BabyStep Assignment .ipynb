{
 "cells": [
  {
   "cell_type": "code",
   "execution_count": 1,
   "id": "3b9bc911-5b3b-4d9c-9a94-3aa2611447f0",
   "metadata": {},
   "outputs": [
    {
     "name": "stdout",
     "output_type": "stream",
     "text": [
      "Welcome to Assignment-1\n"
     ]
    }
   ],
   "source": [
    "print(\"Welcome to Assignment-1\")"
   ]
  },
  {
   "cell_type": "code",
   "execution_count": 2,
   "id": "efe9327b-8af1-46ee-aa5f-f8c063ca97ff",
   "metadata": {},
   "outputs": [
    {
     "name": "stdout",
     "output_type": "stream",
     "text": [
      "Add\n",
      "40\n"
     ]
    }
   ],
   "source": [
    "Num1=10\n",
    "Num2=30\n",
    "Add=Num1+Num2\n",
    "print(\"Add\")\n",
    "print(Add)"
   ]
  },
  {
   "cell_type": "code",
   "execution_count": 7,
   "id": "da77ed5d-6d02-4033-a85a-35335616da81",
   "metadata": {},
   "outputs": [
    {
     "name": "stdin",
     "output_type": "stream",
     "text": [
      "Enter Your Height in CM: 175\n",
      "Enter Your Weight in KG: 83\n"
     ]
    },
    {
     "name": "stdout",
     "output_type": "stream",
     "text": [
      "Bmi\n",
      "27.102040816326532\n",
      "Over weight\n"
     ]
    }
   ],
   "source": [
    "Height=int(input(\"Enter Your Height in CM:\"))\n",
    "Weight=float(input(\"Enter Your Weight in KG:\"))\n",
    "Bmi=(Weight/(Height/100)**2)\n",
    "print(\"Bmi\")\n",
    "print(Bmi)\n",
    "if(Bmi<19):\n",
    "    print(\"Under Weight\")\n",
    "elif(Bmi<25):\n",
    "    print(\"Healthy Weught\")\n",
    "elif(Bmi<30):\n",
    "    print(\"Over weight\")\n",
    "elif(Bmi<35):\n",
    "    print(\"Moderately obese\")\n",
    "elif(Bmi<40):\n",
    "    print(\"Severely obese\")\n",
    "else:\n",
    "    print(\"Morbidly obese\")\n"
   ]
  },
  {
   "cell_type": "code",
   "execution_count": null,
   "id": "fefd9c01-57ec-42a9-856c-25dccd6295c3",
   "metadata": {},
   "outputs": [],
   "source": []
  }
 ],
 "metadata": {
  "kernelspec": {
   "display_name": "Python 3 (ipykernel)",
   "language": "python",
   "name": "python3"
  },
  "language_info": {
   "codemirror_mode": {
    "name": "ipython",
    "version": 3
   },
   "file_extension": ".py",
   "mimetype": "text/x-python",
   "name": "python",
   "nbconvert_exporter": "python",
   "pygments_lexer": "ipython3",
   "version": "3.12.4"
  }
 },
 "nbformat": 4,
 "nbformat_minor": 5
}
