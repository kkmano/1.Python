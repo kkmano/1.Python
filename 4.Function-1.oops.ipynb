{
 "cells": [
  {
   "cell_type": "code",
   "execution_count": 1,
   "id": "9e2dbd82-3169-4f6c-b3c7-be6bf84439f1",
   "metadata": {},
   "outputs": [],
   "source": [
    "def Agecate():\n",
    "      if(Age<18):\n",
    "        print(\"Children\")\n",
    "        cate=\"Children\"\n",
    "      elif(Age<35):\n",
    "        print(\"Adult\")\n",
    "        cate=\"Adult\"\n",
    "      elif(Age<59):\n",
    "        print(\"Citizen\")\n",
    "        cate=\"Citizen\"\n",
    "      else:\n",
    "        print(\"Senior Citizen\")\n",
    "        cate=\"Senior Citizen\"\n",
    "      return cate"
   ]
  },
  {
   "cell_type": "code",
   "execution_count": 20,
   "id": "97793761-654e-402b-bea9-7bfef174c45c",
   "metadata": {},
   "outputs": [
    {
     "name": "stdin",
     "output_type": "stream",
     "text": [
      "Enter The Age 9\n"
     ]
    },
    {
     "name": "stdout",
     "output_type": "stream",
     "text": [
      "Children\n"
     ]
    }
   ],
   "source": [
    "Age=int(input(\"Enter The Age\"))\n",
    "agecategory=Agecate()"
   ]
  },
  {
   "cell_type": "code",
   "execution_count": 4,
   "id": "88e9e703-d1fe-4e27-9ade-e7e88de49602",
   "metadata": {},
   "outputs": [
    {
     "name": "stdout",
     "output_type": "stream",
     "text": [
      "Citizen\n"
     ]
    }
   ],
   "source": [
    "print(agecategory)"
   ]
  },
  {
   "cell_type": "code",
   "execution_count": 9,
   "id": "d3e8f60f-3742-4d38-bbb3-b2bae91eb455",
   "metadata": {},
   "outputs": [],
   "source": [
    "def Agecatenotr1():\n",
    "      if(Age<18):\n",
    "        print(\"Children\")\n",
    "        cate=\"Children\"\n",
    "      elif(Age<35):\n",
    "        print(\"Adult\")\n",
    "        cate=\"Adult\"\n",
    "      elif(Age<59):\n",
    "        print(\"Citizen\")\n",
    "        cate=\"Citizen\"\n",
    "      else:\n",
    "        print(\"Senior Citizen\")\n",
    "        cate=\"Senior Citizen\"\n",
    "      "
   ]
  },
  {
   "cell_type": "code",
   "execution_count": 10,
   "id": "4651aabb-f337-4894-a8f3-2386014a15d0",
   "metadata": {},
   "outputs": [
    {
     "name": "stdin",
     "output_type": "stream",
     "text": [
      "Enter The Age 5\n"
     ]
    },
    {
     "name": "stdout",
     "output_type": "stream",
     "text": [
      "Children\n"
     ]
    }
   ],
   "source": [
    "Age=int(input(\"Enter The Age\"))\n",
    "agecategory2=Agecatenotr1()"
   ]
  },
  {
   "cell_type": "code",
   "execution_count": 11,
   "id": "7ebc3401-b672-41b0-86b6-6db5a6a912db",
   "metadata": {},
   "outputs": [
    {
     "name": "stdout",
     "output_type": "stream",
     "text": [
      "None\n"
     ]
    }
   ],
   "source": [
    "print(agecategory2)"
   ]
  },
  {
   "cell_type": "code",
   "execution_count": 22,
   "id": "47bf66d7-3e87-4f1d-b01f-7a2259bb7109",
   "metadata": {},
   "outputs": [
    {
     "name": "stdin",
     "output_type": "stream",
     "text": [
      "Enter Your Value 78\n"
     ]
    },
    {
     "name": "stdout",
     "output_type": "stream",
     "text": [
      "Children\n"
     ]
    }
   ],
   "source": [
    "age=int(input(\"Enter Your Value\"))\n",
    "age4=Agecate()\n"
   ]
  },
  {
   "cell_type": "code",
   "execution_count": null,
   "id": "3a5b5f5b-2f32-4c17-a7d9-62ba30a72c2e",
   "metadata": {},
   "outputs": [],
   "source": [
    "age=int(input(\"Enter Your Age:\"))\n",
    "age5=Agecate()"
   ]
  }
 ],
 "metadata": {
  "kernelspec": {
   "display_name": "Python 3 (ipykernel)",
   "language": "python",
   "name": "python3"
  },
  "language_info": {
   "codemirror_mode": {
    "name": "ipython",
    "version": 3
   },
   "file_extension": ".py",
   "mimetype": "text/x-python",
   "name": "python",
   "nbconvert_exporter": "python",
   "pygments_lexer": "ipython3",
   "version": "3.12.4"
  }
 },
 "nbformat": 4,
 "nbformat_minor": 5
}
