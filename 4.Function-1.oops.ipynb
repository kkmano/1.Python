{
 "cells": [
  {
   "cell_type": "code",
   "execution_count": 1,
   "id": "9e2dbd82-3169-4f6c-b3c7-be6bf84439f1",
   "metadata": {},
   "outputs": [],
   "source": [
    "def Agecate():\n",
    "      if(Age<18):\n",
    "        print(\"Children\")\n",
    "        cate=\"Children\"\n",
    "      elif(Age<35):\n",
    "        print(\"Adult\")\n",
    "        cate=\"Adult\"\n",
    "      elif(Age<59):\n",
    "        print(\"Citizen\")\n",
    "        cate=\"Citizen\"\n",
    "      else:\n",
    "        print(\"Senior Citizen\")\n",
    "        cate=\"Senior Citizen\"\n",
    "      return cate"
   ]
  },
  {
   "cell_type": "code",
   "execution_count": 20,
   "id": "97793761-654e-402b-bea9-7bfef174c45c",
   "metadata": {},
   "outputs": [
    {
     "name": "stdin",
     "output_type": "stream",
     "text": [
      "Enter The Age 9\n"
     ]
    },
    {
     "name": "stdout",
     "output_type": "stream",
     "text": [
      "Children\n"
     ]
    }
   ],
   "source": [
    "Age=int(input(\"Enter The Age\"))\n",
    "agecategory=Agecate()"
   ]
  },
  {
   "cell_type": "code",
   "execution_count": 4,
   "id": "88e9e703-d1fe-4e27-9ade-e7e88de49602",
   "metadata": {},
   "outputs": [
    {
     "name": "stdout",
     "output_type": "stream",
     "text": [
      "Citizen\n"
     ]
    }
   ],
   "source": [
    "print(agecategory)"
   ]
  },
  {
   "cell_type": "code",
   "execution_count": 9,
   "id": "d3e8f60f-3742-4d38-bbb3-b2bae91eb455",
   "metadata": {},
   "outputs": [],
   "source": [
    "def Agecatenotr1():\n",
    "      if(Age<18):\n",
    "        print(\"Children\")\n",
    "        cate=\"Children\"\n",
    "      elif(Age<35):\n",
    "        print(\"Adult\")\n",
    "        cate=\"Adult\"\n",
    "      elif(Age<59):\n",
    "        print(\"Citizen\")\n",
    "        cate=\"Citizen\"\n",
    "      else:\n",
    "        print(\"Senior Citizen\")\n",
    "        cate=\"Senior Citizen\"\n",
    "      "
   ]
  },
  {
   "cell_type": "code",
   "execution_count": 10,
   "id": "4651aabb-f337-4894-a8f3-2386014a15d0",
   "metadata": {},
   "outputs": [
    {
     "name": "stdin",
     "output_type": "stream",
     "text": [
      "Enter The Age 5\n"
     ]
    },
    {
     "name": "stdout",
     "output_type": "stream",
     "text": [
      "Children\n"
     ]
    }
   ],
   "source": [
    "Age=int(input(\"Enter The Age\"))\n",
    "agecategory2=Agecatenotr1()"
   ]
  },
  {
   "cell_type": "code",
   "execution_count": 11,
   "id": "7ebc3401-b672-41b0-86b6-6db5a6a912db",
   "metadata": {},
   "outputs": [
    {
     "name": "stdout",
     "output_type": "stream",
     "text": [
      "None\n"
     ]
    }
   ],
   "source": [
    "print(agecategory2)"
   ]
  },
  {
   "cell_type": "code",
   "execution_count": 6,
   "id": "067cc1d3-83f1-4886-805a-5cefe03195f4",
   "metadata": {},
   "outputs": [],
   "source": [
    "def Agecate():\n",
    "      if(Age<18):\n",
    "        print(\"Children\")\n",
    "        cate=\"Children\"\n",
    "      elif(Age<35):\n",
    "        print(\"Adult\")\n",
    "        cate=\"Adult\"\n",
    "      elif(Age<59):\n",
    "        print(\"Citizen\")\n",
    "        cate=\"Citizen\"\n",
    "      else:\n",
    "        print(\"Senior Citizen\")\n",
    "        cate=\"Senior Citizen\"\n",
    "      return cate"
   ]
  },
  {
   "cell_type": "code",
   "execution_count": 7,
   "id": "47bf66d7-3e87-4f1d-b01f-7a2259bb7109",
   "metadata": {},
   "outputs": [
    {
     "name": "stdin",
     "output_type": "stream",
     "text": [
      "Enter Your Value 26\n"
     ]
    },
    {
     "name": "stdout",
     "output_type": "stream",
     "text": [
      "Adult\n"
     ]
    }
   ],
   "source": [
    "Age=int(input(\"Enter Your Value\"))\n",
    "manoj=Agecate()\n"
   ]
  },
  {
   "cell_type": "code",
   "execution_count": 78,
   "id": "d240e621-1ade-47a2-a4c9-c8f711913d2c",
   "metadata": {},
   "outputs": [],
   "source": [
    "def oddeven():\n",
    "    num=int(input(\"Enter The NUmber\"))\n",
    "    if((num%2)==0):\n",
    "        print(\"Even Number\")\n",
    "    else:\n",
    "        print(\"odd Number\")"
   ]
  },
  {
   "cell_type": "code",
   "execution_count": 79,
   "id": "a8644947-e1d7-49c2-afef-5dde61c166c2",
   "metadata": {},
   "outputs": [
    {
     "name": "stdin",
     "output_type": "stream",
     "text": [
      "Enter The NUmber 7\n"
     ]
    },
    {
     "name": "stdout",
     "output_type": "stream",
     "text": [
      "odd Number\n"
     ]
    }
   ],
   "source": [
    "message4=oddeven()"
   ]
  },
  {
   "cell_type": "code",
   "execution_count": 80,
   "id": "7b69ced2-2ca9-459d-9de3-727356a547f8",
   "metadata": {},
   "outputs": [
    {
     "name": "stdout",
     "output_type": "stream",
     "text": [
      "The Given Number is Even\n"
     ]
    }
   ],
   "source": [
    "if(message4==\"odd Number\"):\n",
    "    print(\"The Given Number Is odd\")\n",
    "else:\n",
    "    print(\"The Given Number is Even\")\n"
   ]
  },
  {
   "cell_type": "code",
   "execution_count": null,
   "id": "f742b5a1-b1b9-4361-8132-871fdcd0dee7",
   "metadata": {},
   "outputs": [],
   "source": []
  },
  {
   "cell_type": "code",
   "execution_count": 84,
   "id": "73fef6ff-c381-455b-93f2-c37fa094eb34",
   "metadata": {},
   "outputs": [],
   "source": [
    "def BMi():\n",
    "    BMi=int(input(\"Enter Your Bmi\"))\n",
    "    \n",
    "    if(Bmi<19):\n",
    "        print(\"Under Weight\")\n",
    "        text=\"Under Weight\"\n",
    "    elif(Bmi<25):\n",
    "        print(\"Healthy Weught\")\n",
    "        text=\"Healthy Weught\"\n",
    "    elif(Bmi<30):\n",
    "        print(\"Over weight\")\n",
    "        text=\"Over weight\"\n",
    "    elif(Bmi<35):\n",
    "        print(\"Moderately obese\")\n",
    "        text=\"Moderately obese\"\n",
    "    elif(Bmi<40):\n",
    "        print(\"Severely obese\")\n",
    "        text=\"Severely obese\"\n",
    "    else:\n",
    "        print(\"Morbidly obese\")\n",
    "        text=\"Morbidly obese\"\n",
    "    return text"
   ]
  },
  {
   "cell_type": "code",
   "execution_count": 85,
   "id": "6ae91adb-84b7-4e40-8c31-6844876957af",
   "metadata": {},
   "outputs": [
    {
     "name": "stdin",
     "output_type": "stream",
     "text": [
      "Enter Your Bmi 25\n"
     ]
    },
    {
     "ename": "NameError",
     "evalue": "name 'Bmi' is not defined",
     "output_type": "error",
     "traceback": [
      "\u001b[1;31m---------------------------------------------------------------------------\u001b[0m",
      "\u001b[1;31mNameError\u001b[0m                                 Traceback (most recent call last)",
      "Cell \u001b[1;32mIn[85], line 1\u001b[0m\n\u001b[1;32m----> 1\u001b[0m BMI\u001b[38;5;241m=\u001b[39mBMi()\n",
      "Cell \u001b[1;32mIn[84], line 4\u001b[0m, in \u001b[0;36mBMi\u001b[1;34m()\u001b[0m\n\u001b[0;32m      1\u001b[0m \u001b[38;5;28;01mdef\u001b[39;00m \u001b[38;5;21mBMi\u001b[39m():\n\u001b[0;32m      2\u001b[0m     BMi\u001b[38;5;241m=\u001b[39m\u001b[38;5;28mint\u001b[39m(\u001b[38;5;28minput\u001b[39m(\u001b[38;5;124m\"\u001b[39m\u001b[38;5;124mEnter Your Bmi\u001b[39m\u001b[38;5;124m\"\u001b[39m))\n\u001b[1;32m----> 4\u001b[0m     \u001b[38;5;28;01mif\u001b[39;00m(Bmi\u001b[38;5;241m<\u001b[39m\u001b[38;5;241m19\u001b[39m):\n\u001b[0;32m      5\u001b[0m         \u001b[38;5;28mprint\u001b[39m(\u001b[38;5;124m\"\u001b[39m\u001b[38;5;124mUnder Weight\u001b[39m\u001b[38;5;124m\"\u001b[39m)\n\u001b[0;32m      6\u001b[0m         text\u001b[38;5;241m=\u001b[39m\u001b[38;5;124m\"\u001b[39m\u001b[38;5;124mUnder Weight\u001b[39m\u001b[38;5;124m\"\u001b[39m\n",
      "\u001b[1;31mNameError\u001b[0m: name 'Bmi' is not defined"
     ]
    }
   ],
   "source": [
    "BMI=BMi()"
   ]
  },
  {
   "cell_type": "code",
   "execution_count": 86,
   "id": "da700088-d14a-44fd-9443-e2563ba14fb4",
   "metadata": {},
   "outputs": [],
   "source": [
    "def BMI():\n",
    "    Bmi = int(input(\"Enter Your BMI: \"))\n",
    "    \n",
    "    if Bmi < 19:\n",
    "        print(\"Under Weight\")\n",
    "        text = \"Under Weight\"\n",
    "    elif Bmi < 25:\n",
    "        print(\"Healthy Weight\")\n",
    "        text = \"Healthy Weight\"\n",
    "    elif Bmi < 30:\n",
    "        print(\"Over Weight\")\n",
    "        text = \"Over Weight\"\n",
    "    elif Bmi < 35:\n",
    "        print(\"Moderately Obese\")\n",
    "        text = \"Moderately Obese\"\n",
    "    elif Bmi < 40:\n",
    "        print(\"Severely Obese\")\n",
    "        text = \"Severely Obese\"\n",
    "    else:\n",
    "        print(\"Morbidly Obese\")\n",
    "        text = \"Morbidly Obese\"\n",
    "    \n",
    "    return text\n"
   ]
  },
  {
   "cell_type": "code",
   "execution_count": 87,
   "id": "dd5b5dba-7044-48a9-9561-77a4c405ae4e",
   "metadata": {},
   "outputs": [
    {
     "name": "stdin",
     "output_type": "stream",
     "text": [
      "Enter Your BMI:  22\n"
     ]
    },
    {
     "name": "stdout",
     "output_type": "stream",
     "text": [
      "Healthy Weight\n"
     ]
    }
   ],
   "source": [
    "bmi=BMI()"
   ]
  },
  {
   "cell_type": "code",
   "execution_count": 88,
   "id": "86e3362b-dca2-4627-bacc-950b44078a36",
   "metadata": {},
   "outputs": [],
   "source": [
    "def addiction(num1,num2):\n",
    "    add=num1+num2\n",
    "    return add\n"
   ]
  },
  {
   "cell_type": "code",
   "execution_count": 89,
   "id": "f1ab3e7d-cfcf-4c1e-ae19-7cf224581be5",
   "metadata": {},
   "outputs": [
    {
     "data": {
      "text/plain": [
       "42"
      ]
     },
     "execution_count": 89,
     "metadata": {},
     "output_type": "execute_result"
    }
   ],
   "source": [
    "addiction(21,21)"
   ]
  },
  {
   "cell_type": "code",
   "execution_count": 90,
   "id": "d532de95-a22d-4f4c-a0bc-343b73312147",
   "metadata": {},
   "outputs": [],
   "source": [
    "def sub(num1,num2,num3):\n",
    "    sub=num1-num2-num3\n",
    "    return sub\n"
   ]
  },
  {
   "cell_type": "code",
   "execution_count": 91,
   "id": "482ee96e-0f8f-4c28-b749-b31d78823a28",
   "metadata": {},
   "outputs": [
    {
     "data": {
      "text/plain": [
       "-3"
      ]
     },
     "execution_count": 91,
     "metadata": {},
     "output_type": "execute_result"
    }
   ],
   "source": [
    "sub(2,4,1)"
   ]
  },
  {
   "cell_type": "code",
   "execution_count": null,
   "id": "55b949aa-9749-4210-8a22-5cf43739b148",
   "metadata": {},
   "outputs": [],
   "source": []
  }
 ],
 "metadata": {
  "kernelspec": {
   "display_name": "Python 3 (ipykernel)",
   "language": "python",
   "name": "python3"
  },
  "language_info": {
   "codemirror_mode": {
    "name": "ipython",
    "version": 3
   },
   "file_extension": ".py",
   "mimetype": "text/x-python",
   "name": "python",
   "nbconvert_exporter": "python",
   "pygments_lexer": "ipython3",
   "version": "3.12.4"
  }
 },
 "nbformat": 4,
 "nbformat_minor": 5
}
