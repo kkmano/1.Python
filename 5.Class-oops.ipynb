{
 "cells": [
  {
   "cell_type": "code",
   "execution_count": 5,
   "id": "00a5f22d-ae3c-44b8-a5b6-023d684ecc00",
   "metadata": {},
   "outputs": [],
   "source": [
    "class multiplefunctions():\n",
    "    def oddeven():\n",
    "        num=int(input(\"Enter The Number\"))\n",
    "        if((num%2)==0):\n",
    "            print(\"Even Number\")\n",
    "            cate=(\"Even Number\")\n",
    "        else:\n",
    "            print(\"odd Number\")\n",
    "            cate=(\"odd Number\")\n",
    "        return cate\n",
    "        \n",
    "    \n",
    "    def BMI():\n",
    "        Bmi = int(input(\"Enter Your BMI: \"))\n",
    "        \n",
    "        if Bmi < 19:\n",
    "            print(\"Under Weight\")\n",
    "            text = \"Under Weight\"\n",
    "        elif Bmi < 25:\n",
    "            print(\"Healthy Weight\")\n",
    "            text = \"Healthy Weight\"\n",
    "        elif Bmi < 30:\n",
    "            print(\"Over Weight\")\n",
    "            text = \"Over Weight\"\n",
    "        elif Bmi < 35:\n",
    "            print(\"Moderately Obese\")\n",
    "            text = \"Moderately Obese\"\n",
    "        elif Bmi < 40:\n",
    "            print(\"Severely Obese\")\n",
    "            text = \"Severely Obese\"\n",
    "        else:\n",
    "            print(\"Morbidly Obese\")\n",
    "            text = \"Morbidly Obese\"\n",
    "        \n",
    "        return text"
   ]
  },
  {
   "cell_type": "code",
   "execution_count": 6,
   "id": "21372462-bd19-4cff-9219-cdb8c19bc43f",
   "metadata": {},
   "outputs": [
    {
     "name": "stdin",
     "output_type": "stream",
     "text": [
      "Enter The Number 90\n"
     ]
    },
    {
     "name": "stdout",
     "output_type": "stream",
     "text": [
      "Even Number\n"
     ]
    },
    {
     "data": {
      "text/plain": [
       "'Even Number'"
      ]
     },
     "execution_count": 6,
     "metadata": {},
     "output_type": "execute_result"
    }
   ],
   "source": [
    "multiplefunctions.oddeven()\n"
   ]
  },
  {
   "cell_type": "code",
   "execution_count": 8,
   "id": "deae41bb-21ef-4fca-8234-8e8cf215efcd",
   "metadata": {},
   "outputs": [
    {
     "name": "stdin",
     "output_type": "stream",
     "text": [
      "Enter Your BMI:  25\n"
     ]
    },
    {
     "name": "stdout",
     "output_type": "stream",
     "text": [
      "Over Weight\n"
     ]
    },
    {
     "data": {
      "text/plain": [
       "'Over Weight'"
      ]
     },
     "execution_count": 8,
     "metadata": {},
     "output_type": "execute_result"
    }
   ],
   "source": [
    "multiplefunctions.BMI()"
   ]
  },
  {
   "cell_type": "code",
   "execution_count": null,
   "id": "750dca5c-48e8-469a-a13b-ec19ccaf3f8c",
   "metadata": {},
   "outputs": [],
   "source": []
  }
 ],
 "metadata": {
  "kernelspec": {
   "display_name": "Python 3 (ipykernel)",
   "language": "python",
   "name": "python3"
  },
  "language_info": {
   "codemirror_mode": {
    "name": "ipython",
    "version": 3
   },
   "file_extension": ".py",
   "mimetype": "text/x-python",
   "name": "python",
   "nbconvert_exporter": "python",
   "pygments_lexer": "ipython3",
   "version": "3.12.4"
  }
 },
 "nbformat": 4,
 "nbformat_minor": 5
}
