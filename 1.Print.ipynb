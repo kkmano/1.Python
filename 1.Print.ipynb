{
 "cells": [
  {
   "cell_type": "code",
   "execution_count": null,
   "id": "45c15312-deaf-4fe3-868a-4e38e5da75fe",
   "metadata": {},
   "outputs": [],
   "source": [
    "Print \n",
    "Syntax print(\"\")"
   ]
  },
  {
   "cell_type": "code",
   "execution_count": 3,
   "id": "b64f2e6a-b171-48bb-8769-aad8cbfc3435",
   "metadata": {},
   "outputs": [
    {
     "name": "stdout",
     "output_type": "stream",
     "text": [
      "Consistency Is The Key\n"
     ]
    }
   ],
   "source": [
    "print(\"Consistency Is The Key\")"
   ]
  },
  {
   "cell_type": "markdown",
   "id": "cb876358-2808-4ef0-96d0-e2caa7e03690",
   "metadata": {},
   "source": [
    "Print Syntax\n",
    "Print(\"\")"
   ]
  },
  {
   "cell_type": "code",
   "execution_count": null,
   "id": "a4703819-ec7d-4e17-ae75-3eaf1be2a77c",
   "metadata": {},
   "outputs": [],
   "source": []
  },
  {
   "cell_type": "code",
   "execution_count": null,
   "id": "7a1fa2c4-e2d9-4aef-b23c-9f231f84a9d4",
   "metadata": {},
   "outputs": [],
   "source": []
  }
 ],
 "metadata": {
  "kernelspec": {
   "display_name": "Python 3 (ipykernel)",
   "language": "python",
   "name": "python3"
  },
  "language_info": {
   "codemirror_mode": {
    "name": "ipython",
    "version": 3
   },
   "file_extension": ".py",
   "mimetype": "text/x-python",
   "name": "python",
   "nbconvert_exporter": "python",
   "pygments_lexer": "ipython3",
   "version": "3.12.4"
  }
 },
 "nbformat": 4,
 "nbformat_minor": 5
}
