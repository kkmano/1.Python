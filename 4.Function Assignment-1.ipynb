{
 "cells": [
  {
   "cell_type": "code",
   "execution_count": 6,
   "id": "1e6ba8fe-0d86-4bf9-8c62-4826a40d0122",
   "metadata": {},
   "outputs": [],
   "source": [
    "list=[\"Machine Leaning\",\"Neural Networks\",\"vision\",\"Robotics\",\"Speech Processing\",\"Natural Language Processing\"]\n"
   ]
  },
  {
   "cell_type": "code",
   "execution_count": 8,
   "id": "559d01f1-967e-4a2c-9b03-e23f28ddf89c",
   "metadata": {},
   "outputs": [
    {
     "name": "stdout",
     "output_type": "stream",
     "text": [
      "Machine Leaning\n",
      "Neural Networks\n",
      "vision\n",
      "Robotics\n",
      "Speech Processing\n",
      "Natural Language Processing\n"
     ]
    }
   ],
   "source": [
    "for subfield in list:\n",
    "    print(subfield)\n"
   ]
  },
  {
   "cell_type": "code",
   "execution_count": 10,
   "id": "f2937182-ea6f-4b9d-82f4-132f17c2eb1c",
   "metadata": {},
   "outputs": [],
   "source": [
    "def Subfield():\n",
    "    for subfield in list:\n",
    "        print(subfield)\n",
    "        cate=\"subfield\"\n",
    "    return cate"
   ]
  },
  {
   "cell_type": "code",
   "execution_count": 11,
   "id": "b794234b-6308-46c9-ac20-9cbea0680078",
   "metadata": {},
   "outputs": [
    {
     "name": "stdout",
     "output_type": "stream",
     "text": [
      "Machine Leaning\n",
      "Neural Networks\n",
      "vision\n",
      "Robotics\n",
      "Speech Processing\n",
      "Natural Language Processing\n"
     ]
    },
    {
     "data": {
      "text/plain": [
       "'subfield'"
      ]
     },
     "execution_count": 11,
     "metadata": {},
     "output_type": "execute_result"
    }
   ],
   "source": [
    "Subfield()\n"
   ]
  },
  {
   "cell_type": "code",
   "execution_count": 13,
   "id": "102a2e62-c7e3-4db3-a642-756e767a4f90",
   "metadata": {},
   "outputs": [
    {
     "name": "stdout",
     "output_type": "stream",
     "text": [
      "Machine Leaning\n",
      "Neural Networks\n",
      "vision\n",
      "Robotics\n",
      "Speech Processing\n",
      "Natural Language Processing\n",
      "Subfields in Ai Are:\n"
     ]
    }
   ],
   "source": [
    "Subfield()\n",
    "print(\"Subfields in Ai Are:\")"
   ]
  },
  {
   "cell_type": "code",
   "execution_count": 18,
   "id": "c8a84b4f-5ce5-42b3-ab9f-bacb7e6c59b3",
   "metadata": {},
   "outputs": [
    {
     "name": "stdin",
     "output_type": "stream",
     "text": [
      "Enter The Number 5\n"
     ]
    },
    {
     "name": "stdout",
     "output_type": "stream",
     "text": [
      "Odd Number\n"
     ]
    }
   ],
   "source": [
    "num=int(input(\"Enter The Number\"))\n",
    "if((num%2)==0):\n",
    "    print(\"Even Number\")\n",
    "else:\n",
    "    print(\"Odd Number\")"
   ]
  },
  {
   "cell_type": "code",
   "execution_count": 4,
   "id": "35570a04-582e-420e-bc5a-45dc83bc16e4",
   "metadata": {},
   "outputs": [],
   "source": [
    "def oddeven():\n",
    "    num=int(input(\"Enter The Number\"))\n",
    "    if((num%2)==1):\n",
    "        print(\"Odd Number\")\n",
    "        cate=\"Odd Number\"\n",
    "    else:\n",
    "        print(\"Even Number\")\n",
    "        cate=\"Even Number\"\n",
    "    return cate"
   ]
  },
  {
   "cell_type": "code",
   "execution_count": 7,
   "id": "e3792969-50b9-43be-8c22-e6751992f894",
   "metadata": {},
   "outputs": [
    {
     "name": "stdin",
     "output_type": "stream",
     "text": [
      "Enter The Number 8\n"
     ]
    },
    {
     "name": "stdout",
     "output_type": "stream",
     "text": [
      "Even Number\n"
     ]
    }
   ],
   "source": [
    "number=oddeven()"
   ]
  },
  {
   "cell_type": "code",
   "execution_count": 8,
   "id": "eb0edd56-8f1a-4fbf-884a-9107bf6dd82d",
   "metadata": {},
   "outputs": [
    {
     "name": "stdout",
     "output_type": "stream",
     "text": [
      "is Even Number\n"
     ]
    }
   ],
   "source": [
    "if(number==\"Even Number\"):\n",
    "    print(\"is Even Number\")\n",
    "else:\n",
    "    print(\"is Odd Number\")"
   ]
  },
  {
   "cell_type": "raw",
   "id": "0761754a-1956-4234-a6bd-60005372e7e6",
   "metadata": {},
   "source": [
    " Elegible()\n",
    " Your Gender:Male\n",
    " Your Age:18\n",
    " NOT ELIGIBLE"
   ]
  },
  {
   "cell_type": "code",
   "execution_count": 2,
   "id": "c798cf92-92f6-4fac-90e5-387a714202cb",
   "metadata": {},
   "outputs": [],
   "source": [
    "def Elegible():\n",
    "    Gender=input(\"Enter Your Gender\")\n",
    "    Age=int(input(\"Enter Your Age\"))\n",
    "    if(Age>18):\n",
    "        print(\"Elegible\")\n",
    "        cate=(\"Elegible\")\n",
    "    elif(Gender==\"Male\"):\n",
    "        print(\"Elegible\")\n",
    "        cate=(\"Elegible\")\n",
    "    else:\n",
    "        print(\"Not Elegible\")\n",
    "        cate=(\"Not Elegible\")\n",
    "    return cate "
   ]
  },
  {
   "cell_type": "code",
   "execution_count": 3,
   "id": "3fd63af4-47d3-461d-a28e-98637abc50cf",
   "metadata": {},
   "outputs": [
    {
     "name": "stdin",
     "output_type": "stream",
     "text": [
      "Enter Your Gender male\n",
      "Enter Your Age 24\n"
     ]
    },
    {
     "name": "stdout",
     "output_type": "stream",
     "text": [
      "Elegible\n"
     ]
    },
    {
     "data": {
      "text/plain": [
       "'Elegible'"
      ]
     },
     "execution_count": 3,
     "metadata": {},
     "output_type": "execute_result"
    }
   ],
   "source": [
    "Elegible()"
   ]
  },
  {
   "cell_type": "raw",
   "id": "d804f07f-6abd-4cc8-8560-3ce38a8b4545",
   "metadata": {},
   "source": [
    "percentage()\n",
    " Subject1= 23\n",
    " Subject2= 45\n",
    " Subject3= 34\n",
    " Subject4= 23\n",
    " Subject5= 23\n",
    " Total : 148\n",
    " Percentage : 29.599999999999998"
   ]
  },
  {
   "cell_type": "code",
   "execution_count": 22,
   "id": "cd1d3658-48b4-417f-8c77-ddc607257ef0",
   "metadata": {},
   "outputs": [],
   "source": [
    "def percentage():\n",
    "    sub1=int(input(\"Enter Your sub1 Mark\"))\n",
    "    sub2=int(input(\"Enter Your sub2 Mark\"))\n",
    "    sub3=int(input(\"Enter Your sub3 Mark\"))\n",
    "    sub4=int(input(\"Enter Your sub4 Mark\"))\n",
    "    sub5=int(input(\"Enter Your sub5 Mark\"))\n",
    "    Total=sub1+sub2+sub3+sub4+sub5\n",
    "    print(Total)\n",
    "    \n",
    "    percentage=(Total/500*100)\n",
    "    print(\"percentage\")\n",
    "    print(percentage)\n",
    "    cate=(\"Percentage\")\n",
    "    \n",
    "    return cate"
   ]
  },
  {
   "cell_type": "code",
   "execution_count": 23,
   "id": "f0a17771-df49-46f6-ad8f-c2037c6632a6",
   "metadata": {},
   "outputs": [
    {
     "name": "stdin",
     "output_type": "stream",
     "text": [
      "Enter Your sub1 Mark 23\n",
      "Enter Your sub2 Mark 45\n",
      "Enter Your sub3 Mark 34\n",
      "Enter Your sub4 Mark 23\n",
      "Enter Your sub5 Mark 23\n"
     ]
    },
    {
     "name": "stdout",
     "output_type": "stream",
     "text": [
      "148\n",
      "percentage\n",
      "29.599999999999998\n"
     ]
    },
    {
     "data": {
      "text/plain": [
       "'Percentage'"
      ]
     },
     "execution_count": 23,
     "metadata": {},
     "output_type": "execute_result"
    }
   ],
   "source": [
    "percentage()"
   ]
  },
  {
   "cell_type": "raw",
   "id": "99f8d240-e9b9-4a18-9d78-2205257eb221",
   "metadata": {},
   "source": [
    "triangle()\n",
    " Height:3\n",
    " Breadth:4\n",
    " Area formula: (Height*Breadth)/2\n",
    " Area of Triangle: 6.0\n",
    " Height1:3\n",
    " Height2:4\n",
    " Breadth:45\n",
    " Perimeter formula: Height1+Height2+Breadth\n",
    " Perimeter of Triangle: 52"
   ]
  },
  {
   "cell_type": "code",
   "execution_count": null,
   "id": "25ad2519-0b07-47fc-b6f2-dbce330b7c60",
   "metadata": {},
   "outputs": [],
   "source": [
    "def triangle():\n",
    "    height=int(input(\"Enter Value\"))\n",
    "    breadth=int(input(\"Enter Value\"))\n",
    "    AreaOfTriangle=((height*breadth)/2)\n",
    "    \n",
    "    print(\"Area Of Triangle\")\n",
    "    print(AreaOfTriangle)\n",
    "    cate=(\"Area Of Triangle\")\n",
    "    \n",
    "    height1=int(input(\"Enter Value\"))\n",
    "    height2=int(input(\"Enter Value\"))\n",
    "    breadth=int(input(\"Enter Value\"))\n",
    "    perimeter=height1+height2+breadth\n",
    "    \n",
    "    print(\"Perimeter of Traingle\")\n",
    "    print(perimeter)\n",
    "    cate=(\"Perimeter of Traingle\")\n",
    "    return cate\n",
    "    "
   ]
  },
  {
   "cell_type": "code",
   "execution_count": 2,
   "id": "1c8377da-7732-4f78-a317-387dbc5371f4",
   "metadata": {},
   "outputs": [
    {
     "name": "stdin",
     "output_type": "stream",
     "text": [
      "Enter Value 3\n",
      "Enter Value 4\n"
     ]
    },
    {
     "name": "stdout",
     "output_type": "stream",
     "text": [
      "Area Of Triangle\n",
      "6.0\n"
     ]
    },
    {
     "name": "stdin",
     "output_type": "stream",
     "text": [
      "Enter Value 3\n",
      "Enter Value 4\n",
      "Enter Value 45\n"
     ]
    },
    {
     "name": "stdout",
     "output_type": "stream",
     "text": [
      "Perimeter of Traingle\n",
      "52\n"
     ]
    },
    {
     "data": {
      "text/plain": [
       "'Perimeter of Traingle'"
      ]
     },
     "execution_count": 2,
     "metadata": {},
     "output_type": "execute_result"
    }
   ],
   "source": [
    "triangle()"
   ]
  },
  {
   "cell_type": "code",
   "execution_count": null,
   "id": "e475d39c-c69a-4595-83a4-ecebb6785668",
   "metadata": {},
   "outputs": [],
   "source": []
  }
 ],
 "metadata": {
  "kernelspec": {
   "display_name": "Python 3 (ipykernel)",
   "language": "python",
   "name": "python3"
  },
  "language_info": {
   "codemirror_mode": {
    "name": "ipython",
    "version": 3
   },
   "file_extension": ".py",
   "mimetype": "text/x-python",
   "name": "python",
   "nbconvert_exporter": "python",
   "pygments_lexer": "ipython3",
   "version": "3.12.4"
  }
 },
 "nbformat": 4,
 "nbformat_minor": 5
}
