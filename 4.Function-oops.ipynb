{
 "cells": [
  {
   "cell_type": "code",
   "execution_count": 9,
   "id": "a4b9b36a-ed71-4e38-b63a-e22e23be96ad",
   "metadata": {},
   "outputs": [],
   "source": [
    "list=[23,45,89,13,47]\n"
   ]
  },
  {
   "cell_type": "code",
   "execution_count": 8,
   "id": "918f4be2-f53a-4080-8459-79d8d572477c",
   "metadata": {},
   "outputs": [],
   "source": [
    "def Agecate():\n",
    "  for Age in list:\n",
    "      if(Age<18):\n",
    "        print(\"Children\")\n",
    "      elif(Age<35):\n",
    "        print(\"Adult\")\n",
    "      elif(Age<59):\n",
    "        print(\"Citizen\")\n",
    "      else:\n",
    "        print(\"Senor Citizen\")\n",
    "  \n",
    "    \n",
    "  \n",
    "    "
   ]
  },
  {
   "cell_type": "code",
   "execution_count": 10,
   "id": "652b32d4-f0d8-466a-8120-b0b533ecfad2",
   "metadata": {},
   "outputs": [
    {
     "name": "stdout",
     "output_type": "stream",
     "text": [
      "Adult\n",
      "Citizen\n",
      "Senor Citizen\n",
      "Children\n",
      "Citizen\n"
     ]
    }
   ],
   "source": [
    "Agecate()"
   ]
  },
  {
   "cell_type": "code",
   "execution_count": 10,
   "id": "d29e074d-98c8-404d-abfa-fc45e5e1d329",
   "metadata": {},
   "outputs": [
    {
     "name": "stdin",
     "output_type": "stream",
     "text": [
      "Enter The Age: 46\n"
     ]
    }
   ],
   "source": [
    "Age=int(input(\"Enter The Age:\"))"
   ]
  },
  {
   "cell_type": "code",
   "execution_count": 7,
   "id": "115823c7-9c74-41b3-838d-09fef262bc66",
   "metadata": {},
   "outputs": [],
   "source": [
    "def Agecate():\n",
    "      if(Age<18):\n",
    "        print(\"Children\")\n",
    "        cate=\"Children\"\n",
    "      elif(Age<35):\n",
    "        print(\"Adult\")\n",
    "        cate=\"Adult\"\n",
    "      elif(Age<59):\n",
    "        print(\"Citizen\")\n",
    "        cate=\"Citizen\"\n",
    "      else:\n",
    "        print(\"Senior Citizen\")\n",
    "        cate=\"Senior Citizen\"\n",
    "      return cate"
   ]
  },
  {
   "cell_type": "code",
   "execution_count": 11,
   "id": "11a43881-9df2-4d25-a20f-7c8fefc0000e",
   "metadata": {},
   "outputs": [
    {
     "name": "stdout",
     "output_type": "stream",
     "text": [
      "Citizen\n"
     ]
    },
    {
     "data": {
      "text/plain": [
       "'Citizen'"
      ]
     },
     "execution_count": 11,
     "metadata": {},
     "output_type": "execute_result"
    }
   ],
   "source": [
    "Agecate()"
   ]
  },
  {
   "cell_type": "code",
   "execution_count": 12,
   "id": "0f3027ee-315f-4a27-b728-a58795750518",
   "metadata": {},
   "outputs": [
    {
     "name": "stdout",
     "output_type": "stream",
     "text": [
      "Citizen\n"
     ]
    }
   ],
   "source": [
    "agecategory=Agecate()"
   ]
  },
  {
   "cell_type": "code",
   "execution_count": 14,
   "id": "4bf7cccf-f0d8-48b9-be71-152ee25b38b7",
   "metadata": {},
   "outputs": [
    {
     "name": "stdout",
     "output_type": "stream",
     "text": [
      "Citizen\n"
     ]
    }
   ],
   "source": [
    "print(agecategory)"
   ]
  },
  {
   "cell_type": "code",
   "execution_count": null,
   "id": "56b56de0-5682-4c9c-b13a-2ca09165296f",
   "metadata": {},
   "outputs": [],
   "source": []
  }
 ],
 "metadata": {
  "kernelspec": {
   "display_name": "Python 3 (ipykernel)",
   "language": "python",
   "name": "python3"
  },
  "language_info": {
   "codemirror_mode": {
    "name": "ipython",
    "version": 3
   },
   "file_extension": ".py",
   "mimetype": "text/x-python",
   "name": "python",
   "nbconvert_exporter": "python",
   "pygments_lexer": "ipython3",
   "version": "3.12.4"
  }
 },
 "nbformat": 4,
 "nbformat_minor": 5
}
